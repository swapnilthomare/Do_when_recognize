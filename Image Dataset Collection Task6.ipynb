{
 "cells": [
  {
   "cell_type": "markdown",
   "metadata": {},
   "source": [
    "### Load Library"
   ]
  },
  {
   "cell_type": "code",
   "execution_count": 5,
   "metadata": {},
   "outputs": [],
   "source": [
    "import cv2\n",
    "import time\n",
    "import requests\n",
    "import numpy as np\n",
    "import imutils\n",
    "import os"
   ]
  },
  {
   "cell_type": "markdown",
   "metadata": {},
   "source": [
    "### Cropping the face from the Image"
   ]
  },
  {
   "cell_type": "code",
   "execution_count": 6,
   "metadata": {},
   "outputs": [
    {
     "name": "stderr",
     "output_type": "stream",
     "text": [
      "<>:8: SyntaxWarning: \"is\" with a literal. Did you mean \"==\"?\n",
      "<>:8: SyntaxWarning: \"is\" with a literal. Did you mean \"==\"?\n",
      "<ipython-input-6-34a91155525c>:8: SyntaxWarning: \"is\" with a literal. Did you mean \"==\"?\n",
      "  if faces is ():\n"
     ]
    }
   ],
   "source": [
    "def face_Crop(face_classifier,img):\n",
    "    # Function detects faces and returns the cropped face\n",
    "    # If no face detected, it returns the input image\n",
    "    \n",
    "    #gray = cv2.cvtColor(img,cv2.COLOR_BGR2GRAY)\n",
    "    faces = face_classifier.detectMultiScale(img, 1.3, 5)\n",
    "    \n",
    "    if faces is ():\n",
    "        return None\n",
    "    \n",
    "    # Crop all faces found\n",
    "    for (x,y,w,h) in faces:\n",
    "        cropped_face = img[y:y+h, x:x+w]\n",
    "\n",
    "    return cropped_face"
   ]
  },
  {
   "cell_type": "markdown",
   "metadata": {},
   "source": [
    "### Images Dataset Collection"
   ]
  },
  {
   "cell_type": "code",
   "execution_count": 7,
   "metadata": {},
   "outputs": [
    {
     "name": "stdout",
     "output_type": "stream",
     "text": [
      "what's you name?: ravi\n",
      "how many images you want to capture: 200\n",
      "what should be folder name?: ravi\n",
      "face not found, wait\n",
      "face not found, wait\n",
      "face not found, wait\n",
      "face not found, wait\n",
      "face not found, wait\n",
      "face not found, wait\n",
      "face not found, wait\n",
      "face not found, wait\n",
      "face not found, wait\n",
      "face not found, wait\n",
      "face not found, wait\n",
      "face not found, wait\n",
      "face not found, wait\n",
      "face not found, wait\n",
      "face not found, wait\n",
      "face not found, wait\n",
      "face not found, wait\n",
      "face not found, wait\n",
      "face not found, wait\n",
      "face not found, wait\n",
      "face not found, wait\n",
      "face not found, wait\n",
      "face not found, wait\n",
      "face not found, wait\n",
      "face not found, wait\n",
      "face not found, wait\n",
      "face not found, wait\n",
      "face not found, wait\n",
      "face not found, wait\n",
      "face not found, wait\n",
      "face not found, wait\n",
      "face not found, wait\n",
      "face not found, wait\n",
      "face not found, wait\n",
      "face not found, wait\n",
      "face not found, wait\n",
      "face not found, wait\n",
      "face not found, wait\n",
      "face not found, wait\n",
      "successfully 200 images has been captured\n"
     ]
    }
   ],
   "source": [
    "cap=cv2.VideoCapture(0)\n",
    "\n",
    "#url=\"http://10.225.232.235:8080/shot.jpg\"\n",
    "\n",
    "detect=cv2.CascadeClassifier(cv2.haarcascades +'haarcascade_frontalface_default.xml')\n",
    "\n",
    "#print(detect.empty())\n",
    "\n",
    "\n",
    "label=input(\"what's you name?: \")\n",
    "\n",
    "no_images=int(input(\"how many images you want to capture: \"))\n",
    "\n",
    "Directory= input(\"what should be folder name?: \")\n",
    "\n",
    "Parent_dir= \"db/\"\n",
    "\n",
    "folder =os.path.join(Parent_dir,Directory) \n",
    "\n",
    "os.mkdir(folder)\n",
    "\n",
    "count=0\n",
    "\n",
    "while True:\n",
    "\n",
    "    #img=capture(url)\n",
    "    ret, img =cap.read()\n",
    "    \n",
    "    cropped_img = face_Crop(detect, img)  \n",
    "    \n",
    "    if cropped_img is not None:\n",
    "        path = folder+'/'+ label + str(count) +'.jpg'\n",
    "        cv2.imwrite(path, cropped_img)\n",
    "        cv2.putText( cropped_img, str(count),(20,50),cv2.FONT_ITALIC, 2, [0, 255, 0], 5)\n",
    "        cv2.imshow(\"captured photo\",cropped_img)\n",
    "        count+=1\n",
    "        \n",
    "    else:\n",
    "        print(\"face not found, wait\")\n",
    "        pass\n",
    "    \n",
    "    if cv2.waitKey(1) == 13 or count == no_images:\n",
    "        break\n",
    "\n",
    "    \n",
    "cv2.destroyAllWindows()\n",
    "cap.release()      \n",
    "print(f\"successfully {no_images} images has been captured\")"
   ]
  },
  {
   "cell_type": "code",
   "execution_count": null,
   "metadata": {},
   "outputs": [],
   "source": []
  }
 ],
 "metadata": {
  "kernelspec": {
   "display_name": "Python 3",
   "language": "python",
   "name": "python3"
  },
  "language_info": {
   "codemirror_mode": {
    "name": "ipython",
    "version": 3
   },
   "file_extension": ".py",
   "mimetype": "text/x-python",
   "name": "python",
   "nbconvert_exporter": "python",
   "pygments_lexer": "ipython3",
   "version": "3.8.5"
  }
 },
 "nbformat": 4,
 "nbformat_minor": 4
}
